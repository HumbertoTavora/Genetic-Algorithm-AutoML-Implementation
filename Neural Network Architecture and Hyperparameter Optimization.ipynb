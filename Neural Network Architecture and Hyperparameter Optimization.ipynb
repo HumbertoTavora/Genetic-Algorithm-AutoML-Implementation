{
 "cells": [
  {
   "cell_type": "markdown",
   "metadata": {},
   "source": [
    "# <b>1 <span style='color:#2ae4f5'>|</span> Importando Bibliotecas </b>"
   ]
  },
  {
   "cell_type": "code",
   "execution_count": 1,
   "metadata": {},
   "outputs": [
    {
     "name": "stderr",
     "output_type": "stream",
     "text": [
      "/Users/humbertotavora/Documents/UFPE/Deep Learning/Projeto de Pesquisa/DeepLearningProject/lib/python3.9/site-packages/urllib3/__init__.py:35: NotOpenSSLWarning: urllib3 v2 only supports OpenSSL 1.1.1+, currently the 'ssl' module is compiled with 'LibreSSL 2.8.3'. See: https://github.com/urllib3/urllib3/issues/3020\n",
      "  warnings.warn(\n"
     ]
    }
   ],
   "source": [
    "import keras\n",
    "import tensorflow as tf\n",
    "from keras.datasets import mnist\n",
    "from keras.utils import to_categorical\n",
    "from keras.models import Sequential\n",
    "from keras.layers import Dense, Conv2D, MaxPooling2D, Flatten\n",
    "import numpy as np\n",
    "import matplotlib.pyplot as plt\n",
    "from tensorflow.keras.utils import plot_model\n",
    "import os\n",
    "\n",
    "import matplotlib.pyplot as plt\n",
    "#load mnist dataset"
   ]
  },
  {
   "cell_type": "markdown",
   "metadata": {},
   "source": [
    "# <b>2 <span style='color:#2ae4f5'>|</span> Dataset </b>"
   ]
  },
  {
   "cell_type": "markdown",
   "metadata": {},
   "source": [
    "### MNIST Dataset"
   ]
  },
  {
   "cell_type": "code",
   "execution_count": 10,
   "metadata": {},
   "outputs": [
    {
     "name": "stdout",
     "output_type": "stream",
     "text": [
      "Training label shape:  (60000,)\n",
      "First 5 training labels:  [5 0 4 1 9]\n",
      "(10000, 10)\n",
      "(10000, 28, 28, 1)\n"
     ]
    }
   ],
   "source": [
    "# Setup train and test splits\n",
    "(X_train, y_train), (X_test, y_test) = mnist.load_data()\n",
    "print(\"Training label shape: \", y_train.shape)  # (60000,)\n",
    "print(\"First 5 training labels: \", y_train[:5])  # [5, 0, 4, 1, 9]\n",
    "\n",
    "# Convert to \"one-hot\" vectors\n",
    "num_classes = 10\n",
    "y_train = to_categorical(y_train, num_classes)\n",
    "y_test = to_categorical(y_test, num_classes)\n",
    "\n",
    "# Splitting dataset for faster learning and debugging\n",
    "X_train, _, _, _, _, _ = np.split(X_train, 6)\n",
    "y_train, _, _, _, _, _ = np.split(y_train, 6)\n",
    "\n",
    "# Reshape the data for CNN (28, 28, 1)\n",
    "X_train = X_train.reshape(X_train.shape[0], 28, 28, 1)\n",
    "X_test = X_test.reshape(X_test.shape[0], 28, 28, 1)\n",
    "\n",
    "print(y_train.shape)\n",
    "print(X_train.shape)"
   ]
  },
  {
   "cell_type": "code",
   "execution_count": 20,
   "metadata": {},
   "outputs": [],
   "source": [
    "nShapeSize = 28\n",
    "nShape = 1"
   ]
  },
  {
   "cell_type": "markdown",
   "metadata": {},
   "source": [
    "### Chest X-Ray Images (Pneumonia)"
   ]
  },
  {
   "cell_type": "code",
   "execution_count": 3,
   "metadata": {},
   "outputs": [
    {
     "name": "stdout",
     "output_type": "stream",
     "text": [
      "Found 5216 files belonging to 2 classes.\n",
      "Found 624 files belonging to 2 classes.\n",
      "['NORMAL', 'PNEUMONIA']\n",
      "['NORMAL', 'PNEUMONIA']\n"
     ]
    }
   ],
   "source": [
    "# Define image size and other parameters\n",
    "img_width, img_height = 256, 256\n",
    "batchsize = 32\n",
    "epochs = 4\n",
    "num_classes = 2\n",
    "\n",
    "train = keras.utils.image_dataset_from_directory(\n",
    "    directory='chest_xray/train',\n",
    "    labels='inferred',\n",
    "    label_mode='categorical',\n",
    "    batch_size=batchsize,\n",
    "    image_size=(img_width, img_height))\n",
    "\n",
    "test = keras.utils.image_dataset_from_directory(\n",
    "    directory='chest_xray/test',\n",
    "    labels='inferred',\n",
    "    label_mode='categorical',\n",
    "    batch_size=batchsize,\n",
    "    image_size=(img_width, img_height))\n",
    "\n",
    "print(train.class_names)\n",
    "print(test.class_names)"
   ]
  },
  {
   "cell_type": "code",
   "execution_count": 4,
   "metadata": {},
   "outputs": [
    {
     "data": {
      "image/png": "[encoded data removed]",
      "text/plain": [
       "<Figure size 640x480 with 1 Axes>"
      ]
     },
     "metadata": {},
     "output_type": "display_data"
    }
   ],
   "source": [
    "plt.pie([len(train), len(test)],\n",
    "        labels=['train','test'], autopct='%.1f%%', colors=['red', 'grey'], explode=(0.05, 0))\n",
    "plt.show()"
   ]
  },
  {
   "cell_type": "code",
   "execution_count": 5,
   "metadata": {},
   "outputs": [
    {
     "name": "stderr",
     "output_type": "stream",
     "text": [
      "2024-11-08 23:48:59.553195: I tensorflow/core/framework/local_rendezvous.cc:404] Local rendezvous is aborting with status: OUT_OF_RANGE: End of sequence\n",
      "2024-11-08 23:49:00.214328: I tensorflow/core/framework/local_rendezvous.cc:404] Local rendezvous is aborting with status: OUT_OF_RANGE: End of sequence\n"
     ]
    },
    {
     "name": "stdout",
     "output_type": "stream",
     "text": [
      "Shape of 'x_train': (5216, 256, 256, 3)\n",
      "Shape of 'y_train': (5216, 2)\n",
      "Shape of 'x_test': (624, 256, 256, 3)\n",
      "Shape of 'y_test': (624, 2)\n"
     ]
    }
   ],
   "source": [
    "# Extracting Features and Labels\n",
    "x_train = []\n",
    "y_train = []\n",
    "x_test = []\n",
    "y_test = []\n",
    "\n",
    "for feature, label in train:\n",
    "    x_train.append(feature.numpy())\n",
    "    y_train.append(label.numpy())\n",
    "\n",
    "for feature, label in test:\n",
    "    x_test.append(feature.numpy())\n",
    "    y_test.append(label.numpy())\n",
    "\n",
    "# Concatenate the lists to get the full 'x' and 'y' arrays\n",
    "x_train = np.concatenate(x_train, axis=0)\n",
    "x_test = np.concatenate(x_test, axis=0)\n",
    "y_train = np.concatenate(y_train, axis=0)\n",
    "y_test = np.concatenate(y_test, axis=0)\n",
    "\n",
    "# check the shapes of 'x_train' and 'y_train':\n",
    "print(\"Shape of 'x_train':\", x_train.shape)\n",
    "print(\"Shape of 'y_train':\", y_train.shape)\n",
    "print(\"Shape of 'x_test':\", x_test.shape)\n",
    "print(\"Shape of 'y_test':\", y_test.shape)\n",
    "\n",
    "# Pixel Value Scaling for Datasets: Normalizing and Standardizing the Data\n",
    "X_train=x_train/256\n",
    "X_test=x_test/256"
   ]
  },
  {
   "cell_type": "code",
   "execution_count": null,
   "metadata": {},
   "outputs": [],
   "source": [
    "nShapeSize = 256\n",
    "nShape = 3"
   ]
  },
  {
   "cell_type": "markdown",
   "metadata": {},
   "source": [
    "# <b>3 <span style='color:#2ae4f5'>|</span> Hiperparametros </b>"
   ]
  },
  {
   "cell_type": "markdown",
   "metadata": {},
   "source": [
    "Hiperparamtros considerados na evolução:\n",
    "\n",
    "* DNA[0] = depth\n",
    "* DNA[1] = filters per layer\n",
    "* DNA[2] = activations\n",
    "* DNA[3] = optimizer\n",
    "* DNA[4] = losses"
   ]
  },
  {
   "cell_type": "code",
   "execution_count": 11,
   "metadata": {},
   "outputs": [],
   "source": [
    "DNA_parameter = [\n",
    "    [1, 2, 3, 4, 5],  # depth\n",
    "    [32, 64, 128],  # filters per layer\n",
    "    [\"relu\", \"tanh\", \"sigmoid\"],  # activations\n",
    "    [\"sgd\", \"adam\"],  # optimizers\n",
    "    [\"categorical_crossentropy\", \"binary_crossentropy\", \"poisson\"]  # loss functions\n",
    "]"
   ]
  },
  {
   "cell_type": "markdown",
   "metadata": {},
   "source": [
    "# <b>4 <span style='color:#2ae4f5'>|</span> CNN </b>"
   ]
  },
  {
   "cell_type": "code",
   "execution_count": 12,
   "metadata": {},
   "outputs": [],
   "source": [
    "class Network:\n",
    "    def __init__(self, input_shape, classes, DNA_param, epochs):\n",
    "        self.architecture_DNA = []\n",
    "        self.fitness = []\n",
    "        self.acc_history = []\n",
    "        self.input_shape = input_shape\n",
    "        self.classes = classes\n",
    "        self.epochs = epochs\n",
    "\n",
    "        depth = DNA_param[0]\n",
    "        self.architecture_DNA.append(depth)       \n",
    "\n",
    "        model = Sequential()\n",
    "        # Building the init network with random choices\n",
    "        network_depth = depth\n",
    "        for i in range(network_depth):\n",
    "            filters = DNA_param[i+1][0]\n",
    "            activation = DNA_param[i+1][1]\n",
    "            \n",
    "            self.architecture_DNA.append([filters,activation])\n",
    "\n",
    "            if i == 0:\n",
    "                model.add(Conv2D(filters, kernel_size=(3, 3), activation=activation, input_shape=self.input_shape))\n",
    "            else:\n",
    "                model.add(Conv2D(filters, kernel_size=(3, 3), activation=activation))\n",
    "\n",
    "            model.add(MaxPooling2D(pool_size=(2, 2)))\n",
    "\n",
    "        model.add(Flatten())\n",
    "        model.add(Dense(self.classes, activation='softmax'))\n",
    "        optimizer = DNA_param[-2]\n",
    "        loss = DNA_param[-1]\n",
    "        self.architecture_DNA.append(optimizer)\n",
    "        self.architecture_DNA.append(loss)\n",
    "\n",
    "        model.compile(loss=loss, optimizer=optimizer, metrics=['accuracy'])\n",
    "        print(\"Individuo criado: \", self.give_DNA())\n",
    "        self.model = model\n",
    "    \n",
    "    @classmethod\n",
    "    def from_random_DNA(cls, input_shape, classes, epochs):\n",
    "        # Parâmetros globais de DNA\n",
    "        depth_options = DNA_parameter[0]\n",
    "        filters_per_layer = DNA_parameter[1]\n",
    "        activations = DNA_parameter[2]\n",
    "        optimizers = DNA_parameter[3]\n",
    "        losses = DNA_parameter[4]\n",
    "        DNA_param = []\n",
    "        \n",
    "        # Escolhas aleatórias para cada parte do DNA\n",
    "        network_depth = np.random.choice(depth_options)\n",
    "        DNA_param.append(network_depth)\n",
    "        \n",
    "        for i in range(network_depth):\n",
    "            filters = np.random.choice(filters_per_layer)\n",
    "            activation = np.random.choice(activations)\n",
    "            DNA_param.append([filters, activation])\n",
    "        \n",
    "        # Escolher otimizador e perda aleatoriamente\n",
    "        optimizer = np.random.choice(optimizers)\n",
    "        loss = np.random.choice(losses)\n",
    "        DNA_param.append(optimizer)\n",
    "        DNA_param.append(loss)\n",
    "\n",
    "        # Retornar nova instância da classe com o DNA aleatório\n",
    "        return cls(input_shape, classes, DNA_param, epochs)\n",
    "\n",
    "\n",
    "\n",
    "    def create_children(self, children_DNA):\n",
    "        model = Sequential()\n",
    "\n",
    "        children_depth = children_DNA[0]\n",
    "        for i in range(children_depth):\n",
    "            filters = children_DNA[i + 1][0]\n",
    "            activation = children_DNA[i + 1][1]\n",
    "\n",
    "            if i == 0:\n",
    "                model.add(Conv2D(filters, kernel_size=(3, 3), activation=activation, input_shape=self.input_shape))\n",
    "            else:\n",
    "                model.add(Conv2D(filters, kernel_size=(3, 3), activation=activation))\n",
    "\n",
    "            model.add(MaxPooling2D(pool_size=(2, 2)))\n",
    "\n",
    "        model.add(Flatten())\n",
    "        model.add(Dense(self.classes, activation='softmax'))\n",
    "        model.compile(optimizer=children_DNA[-2], loss=children_DNA[-1],  metrics=['accuracy'])\n",
    "        self.model = model\n",
    "        self.architecture_DNA = children_DNA\n",
    "\n",
    "    def train(self):\n",
    "        with tf.device('/GPU:0'):  # Garante que a GPU será utilizada\n",
    "            self.model.fit(X_train, y_train, batch_size=32, epochs=self.epochs, verbose=1, shuffle=True)\n",
    "\n",
    "    def test(self):\n",
    "        with tf.device('/GPU:0'):\n",
    "            loss, acc = self.model.evaluate(X_test, y_test)\n",
    "        self.fitness = acc\n",
    "        self.acc_history.append(acc)\n",
    "\n",
    "    def give_DNA(self):\n",
    "        return self.architecture_DNA\n",
    "\n",
    "    def architecture(self):\n",
    "        self.model.summary()\n"
   ]
  },
  {
   "cell_type": "markdown",
   "metadata": {},
   "source": [
    "# <b>5 <span style='color:#2ae4f5'>|</span> Algoritmo Genético </b>"
   ]
  },
  {
   "cell_type": "code",
   "execution_count": 21,
   "metadata": {},
   "outputs": [],
   "source": [
    "class GeneticAlgorithm:\n",
    "    def __init__(self, population_size, mutation_rate, generations=50, epochs=2):\n",
    "        self.mutation_rate = mutation_rate\n",
    "        self.generations = generations\n",
    "        self.training_epochs = epochs\n",
    "        self.population = None\n",
    "        self.population_size = population_size\n",
    "        self.children_population_DNA = []\n",
    "        self.fitnessList = []\n",
    "        self.best_model = None\n",
    "        self.best_DNA = None\n",
    "        self.best_fitness = -1  # Fitness inicial negativo para garantir atualização\n",
    "\n",
    "\n",
    "    def create_population(self):\n",
    "        self.population = [Network.from_random_DNA((nShapeSize, nShapeSize, nShape), num_classes, self.training_epochs) for _ in range(self.population_size)]\n",
    "\n",
    "    def train_generation(self):\n",
    "        i = 1\n",
    "        for member in self.population:\n",
    "            print(\"Genoma \", str(i) + \" treinamento:\")\n",
    "            member.train()\n",
    "            i = i + 1\n",
    "\n",
    "    def predict(self):\n",
    "        i = 1\n",
    "        for member in self.population:\n",
    "            print(\"Genoma \", str(i) + \" teste para calculo de fitenss:\")\n",
    "            member.test()\n",
    "            self.fitnessList.append(member.fitness)\n",
    "            i = i + 1\n",
    "\n",
    "    def clear_losses(self):\n",
    "        self.fitnessList = []\n",
    "\n",
    "    def select_parents(self):\n",
    "        fitness_scores = np.array([member.fitness for member in self.population])\n",
    "        probabilities = fitness_scores / fitness_scores.sum()\n",
    "        parents_indices = np.random.choice(range(self.population_size), size=2, p=probabilities)\n",
    "        return [self.population[parents_indices[0]], self.population[parents_indices[1]]]\n",
    "    \n",
    "    def select_survivors(self, n_survivors):\n",
    "        fitness_scores = np.array([member.fitness for member in self.population])\n",
    "        probabilities = fitness_scores / fitness_scores.sum()\n",
    "        parents_indices = np.random.choice(range(self.population_size+2), size=n_survivors, p=probabilities)\n",
    "\n",
    "        survivors = []\n",
    "        for idx in parents_indices:\n",
    "            survivors.append(self.population[idx])\n",
    "\n",
    "        self.population = survivors.copy()\n",
    "\n",
    "    def crossover(self, parent1, parent2):\n",
    "        dna1 = parent1.give_DNA()\n",
    "        dna2 = parent2.give_DNA()\n",
    "        child_DNA = []\n",
    "\n",
    "        # Seleciona profundidade (depth) do DNA dos pais\n",
    "        child_DNA.append(dna1[0])\n",
    "\n",
    "        for i in range(dna1[0]):\n",
    "            filters = dna1[i+1][0]\n",
    "            activation = dna1[i+1][1]\n",
    "            child_DNA.append([filters, activation])\n",
    "\n",
    "        # Seleciona otimizador, e função de perda\n",
    "\n",
    "        optimizer = dna2[-2]\n",
    "        loss = dna2[-1]\n",
    "        child_DNA.append(optimizer)\n",
    "        child_DNA.append(loss)\n",
    "        \n",
    "        return child_DNA\n",
    "    \n",
    "    def give_DNA(self):\n",
    "        print(\"DNA:\", self.architecture_DNA)  # Adicione este print para depuração\n",
    "        return self.architecture_DNA\n",
    "    \n",
    "    def mutate(self, dna):\n",
    "        copyDNA = dna.copy()\n",
    "        mutated_DNA = []\n",
    "        # Mutação para profundidade, filtros e função de ativação, garantindo uma lista de mesmo comprimento que profundidade\n",
    "        if np.random.rand() < self.mutation_rate:\n",
    "            mutated_DNA.append(np.random.choice(DNA_parameter[0]))\n",
    "            for i in range(mutated_DNA[0]):\n",
    "                filters = np.random.choice(DNA_parameter[1])\n",
    "                activation = np.random.choice(DNA_parameter[2])\n",
    "                mutated_DNA.append([filters, activation])\n",
    "        else:\n",
    "            mutated_DNA.append(copyDNA[0])\n",
    "            for i in range(copyDNA[0]):\n",
    "                filters = copyDNA[i + 1][0]\n",
    "                activation = copyDNA[i + 1][1]\n",
    "                mutated_DNA.append([filters, activation])\n",
    "\n",
    "        # Alteração de optimizer\n",
    "        if np.random.rand() < self.mutation_rate:\n",
    "            mutated_DNA.append(np.random.choice(DNA_parameter[3]))\n",
    "        else:\n",
    "            mutated_DNA.append(copyDNA[-2])\n",
    "\n",
    "        # Alteração de loss\n",
    "        if np.random.rand() < self.mutation_rate:\n",
    "            mutated_DNA.append(np.random.choice(DNA_parameter[4]))\n",
    "        else:\n",
    "            mutated_DNA.append(copyDNA[-1])\n",
    "\n",
    "        \n",
    "        print(\"Mutated DNA:\", mutated_DNA)  # Debug para verificar o DNA após mutação\n",
    "        return mutated_DNA\n",
    "\n",
    "    def evolve(self, max_fitness):\n",
    "        self.create_population()\n",
    "        for generation in range(self.generations):\n",
    "            print(f\"\\nGeração {generation + 1}\")\n",
    "            print(\"Treinamento:\")\n",
    "            self.train_generation()\n",
    "            print(\"\\n\")\n",
    "            print(\"Teste:\")\n",
    "            self.predict()\n",
    "            print(\"\\n\")\n",
    "            \n",
    "            # Atualiza a melhor rede se o fitness atual for o maior até o momento\n",
    "            max_current_fitness = max(self.fitnessList)\n",
    "            if max_current_fitness > self.best_fitness:\n",
    "                self.best_fitness = max_current_fitness\n",
    "                best_index = self.fitnessList.index(max_current_fitness)\n",
    "                self.best_model = self.population[best_index].model\n",
    "                self.best_DNA = self.population[best_index].give_DNA()\n",
    "                print(f\"Novo melhor modelo com fitness: {self.best_fitness}\")\n",
    "            \n",
    "            # Verifica se o fitness máximo foi alcançado\n",
    "            if max_current_fitness >= max_fitness:\n",
    "                print(f\"Critério de parada atingido: fitness máximo desejado ({max_fitness})\")\n",
    "                break\n",
    "\n",
    "            parent1, parent2 = self.select_parents()\n",
    "            cross_child1_DNA = self.crossover(parent1, parent2)\n",
    "            child1_DNA = self.mutate(cross_child1_DNA)\n",
    "            cross_child2_DNA = self.crossover(parent2, parent1)\n",
    "            child2_DNA = self.mutate(cross_child2_DNA)\n",
    "            \n",
    "            child1 = Network((nShapeSize, nShapeSize, nShape), num_classes, child1_DNA, self.training_epochs)\n",
    "            child1.test()\n",
    "            self.fitnessList.append(child1.fitness)\n",
    "            child2 = Network((nShapeSize, nShapeSize, nShape), num_classes, child2_DNA, self.training_epochs)\n",
    "            child2.test()\n",
    "            self.fitnessList.append(child2.fitness)\n",
    "\n",
    "            self.population.append(child1)\n",
    "            self.population.append(child2)\n",
    "\n",
    "            self.select_survivors(5)\n",
    "            self.fitnessList.clear()  # Limpa os resultados da fitness para a próxima geração\n",
    "\n",
    "        # Exporta o modelo da melhor combinação\n",
    "        if self.best_model:\n",
    "            print(f\"Melhor combinação de DNA: {self.best_DNA} com fitness: {self.best_fitness}\")\n",
    "            self.best_model.save('my_model.keras')\n",
    "            print(\"Modelo da melhor combinação exportado como 'melhor_modelo.h5'\")\n",
    "            \n",
    "            if not os.path.exists(\"visualizations\"):\n",
    "                os.makedirs(\"visualizations\")\n",
    "            plot_model(self.best_model, to_file=\"visualizations/best_model_architecture.png\", show_shapes=True)\n",
    "            print(\"Diagrama da arquitetura salvo em 'visualizations/best_model_architecture.png'\")\n"
   ]
  },
  {
   "cell_type": "markdown",
   "metadata": {},
   "source": [
    "# <b>5 <span style='color:#2ae4f5'>|</span> Evolução </b>"
   ]
  },
  {
   "cell_type": "code",
   "execution_count": 22,
   "metadata": {
    "scrolled": false
   },
   "outputs": [
    {
     "name": "stderr",
     "output_type": "stream",
     "text": [
      "/Users/humbertotavora/Documents/UFPE/Deep Learning/Projeto de Pesquisa/DeepLearningProject/lib/python3.9/site-packages/keras/src/layers/convolutional/base_conv.py:107: UserWarning: Do not pass an `input_shape`/`input_dim` argument to a layer. When using Sequential models, prefer using an `Input(shape)` object as the first layer in the model instead.\n",
      "  super().__init__(activity_regularizer=activity_regularizer, **kwargs)\n"
     ]
    },
    {
     "name": "stdout",
     "output_type": "stream",
     "text": [
      "Individuo criado:  [2, [64, 'sigmoid'], [32, 'tanh'], 'adam', 'poisson']\n",
      "Individuo criado:  [3, [64, 'tanh'], [64, 'tanh'], [64, 'relu'], 'sgd', 'binary_crossentropy']\n",
      "Individuo criado:  [3, [64, 'relu'], [64, 'relu'], [32, 'relu'], 'adam', 'binary_crossentropy']\n",
      "\n",
      "Geração 1\n",
      "Treinamento:\n",
      "Genoma  1 treinamento:\n",
      "\u001b[1m313/313\u001b[0m \u001b[32m━━━━━━━━━━━━━━━━━━━━\u001b[0m\u001b[37m\u001b[0m \u001b[1m3s\u001b[0m 9ms/step - accuracy: 0.7082 - loss: 0.1973\n",
      "Genoma  2 treinamento:\n",
      "\u001b[1m313/313\u001b[0m \u001b[32m━━━━━━━━━━━━━━━━━━━━\u001b[0m\u001b[37m\u001b[0m \u001b[1m4s\u001b[0m 11ms/step - accuracy: 0.2657 - loss: 0.3815\n",
      "Genoma  3 treinamento:\n",
      "\u001b[1m313/313\u001b[0m \u001b[32m━━━━━━━━━━━━━━━━━━━━\u001b[0m\u001b[37m\u001b[0m \u001b[1m4s\u001b[0m 11ms/step - accuracy: 0.5594 - loss: 0.7516\n",
      "\n",
      "\n",
      "Teste:\n",
      "Genoma  1 teste para calculo de fitenss:\n",
      "\u001b[1m313/313\u001b[0m \u001b[32m━━━━━━━━━━━━━━━━━━━━\u001b[0m\u001b[37m\u001b[0m \u001b[1m1s\u001b[0m 4ms/step - accuracy: 0.9401 - loss: 0.1205\n",
      "Genoma  2 teste para calculo de fitenss:\n",
      "\u001b[1m313/313\u001b[0m \u001b[32m━━━━━━━━━━━━━━━━━━━━\u001b[0m\u001b[37m\u001b[0m \u001b[1m2s\u001b[0m 5ms/step - accuracy: 0.5217 - loss: 0.2767\n",
      "Genoma  3 teste para calculo de fitenss:\n",
      "\u001b[1m313/313\u001b[0m \u001b[32m━━━━━━━━━━━━━━━━━━━━\u001b[0m\u001b[37m\u001b[0m \u001b[1m2s\u001b[0m 5ms/step - accuracy: 0.8668 - loss: 0.0973\n",
      "\n",
      "\n",
      "Novo melhor modelo com fitness: 0.948199987411499\n",
      "Mutated DNA: [3, [64, 'tanh'], [64, 'tanh'], [64, 'relu'], 'adam', 'poisson']\n",
      "Mutated DNA: [2, [64, 'sigmoid'], [32, 'tanh'], 'sgd', 'binary_crossentropy']\n",
      "Individuo criado:  [3, [64, 'tanh'], [64, 'tanh'], [64, 'relu'], 'adam', 'poisson']\n",
      "\u001b[1m313/313\u001b[0m \u001b[32m━━━━━━━━━━━━━━━━━━━━\u001b[0m\u001b[37m\u001b[0m \u001b[1m2s\u001b[0m 5ms/step - accuracy: 0.0912 - loss: 0.3438\n",
      "Individuo criado:  [2, [64, 'sigmoid'], [32, 'tanh'], 'sgd', 'binary_crossentropy']\n",
      "\u001b[1m313/313\u001b[0m \u001b[32m━━━━━━━━━━━━━━━━━━━━\u001b[0m\u001b[37m\u001b[0m \u001b[1m1s\u001b[0m 4ms/step - accuracy: 0.0725 - loss: 0.8406\n",
      "Melhor combinação de DNA: [2, [64, 'sigmoid'], [32, 'tanh'], 'adam', 'poisson'] com fitness: 0.948199987411499\n",
      "Modelo da melhor combinação exportado como 'melhor_modelo.h5'\n",
      "Diagrama da arquitetura salvo em 'visualizations/best_model_architecture.png'\n"
     ]
    }
   ],
   "source": [
    "acc_goal = 0.99\n",
    "\n",
    "GA = GeneticAlgorithm(population_size=3, mutation_rate=0.1, generations=1, epochs=1)\n",
    "GA.evolve(acc_goal)"
   ]
  }
 ],
 "metadata": {
  "kernelspec": {
   "display_name": "DeepLearningProject",
   "language": "python",
   "name": "python3"
  },
  "language_info": {
   "codemirror_mode": {
    "name": "ipython",
    "version": 3
   },
   "file_extension": ".py",
   "mimetype": "text/x-python",
   "name": "python",
   "nbconvert_exporter": "python",
   "pygments_lexer": "ipython3",
   "version": "3.9.6"
  }
 },
 "nbformat": 4,
 "nbformat_minor": 2
}
